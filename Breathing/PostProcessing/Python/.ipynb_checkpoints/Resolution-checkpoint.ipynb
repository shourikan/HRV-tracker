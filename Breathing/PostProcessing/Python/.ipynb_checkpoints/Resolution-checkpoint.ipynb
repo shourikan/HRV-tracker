{
 "cells": [
  {
   "cell_type": "code",
   "execution_count": 1,
   "metadata": {},
   "outputs": [],
   "source": [
    "import plotly as py\n",
    "import plotly.graph_objs as go\n",
    "import plotly.io as pio\n",
    "import numpy as np\n",
    "import math\n",
    "from numpy import genfromtxt\n",
    "import os\n",
    "\n",
    "resolutionData = 'Data\\\\Resolution\\\\'"
   ]
  },
  {
   "cell_type": "code",
   "execution_count": 10,
   "metadata": {},
   "outputs": [
    {
     "data": {
      "text/plain": [
       "238"
      ]
     },
     "execution_count": 10,
     "metadata": {},
     "output_type": "execute_result"
    }
   ],
   "source": [
    "#Sensor file\n",
    "FSR = genfromtxt(resolutionData+'fsr.txt', delimiter=',')\n",
    "IR = genfromtxt(resolutionData+'ir.txt', delimiter=',')"
   ]
  },
  {
   "cell_type": "code",
   "execution_count": null,
   "metadata": {},
   "outputs": [],
   "source": [
    "#Resolution\n",
    "corr1 = abs(FSR.max()-FSR.min())\n",
    "corr2 = abs(IR.max()-IR.min())\n",
    "\n",
    "#Bar plot\n",
    "data2 = [go.Bar(\n",
    "            x=['FSR', 'IR'],\n",
    "            y=[corr1, corr2],\n",
    "            text=[corr1, corr2],\n",
    "            textposition = 'auto',\n",
    ")]\n",
    "\n",
    "layout = go.Layout(\n",
    "    title='Resolution of the FSR and IR sensors'\n",
    ")\n",
    "\n",
    "fig = go.Figure(data=data2, layout=layout)\n",
    "py.offline.plot(fig, filename='Resolution.html')"
   ]
  },
  {
   "cell_type": "code",
   "execution_count": 12,
   "metadata": {},
   "outputs": [
    {
     "data": {
      "text/plain": [
       "'file://C:\\\\Users\\\\OndrejSpetko\\\\Desktop\\\\School\\\\MED7\\\\HRV-tracker\\\\Breathing\\\\PostProcessing\\\\Python\\\\IRS.html'"
      ]
     },
     "execution_count": 12,
     "metadata": {},
     "output_type": "execute_result"
    }
   ],
   "source": [
    "#Scatter plot\n",
    "# Create traces\n",
    "trace0 = go.Scatter(\n",
    "    x = np.arange(FSR.shape[0]),\n",
    "    y = FSR,\n",
    "    mode = 'lines',\n",
    "    name = 'FSR'\n",
    ")\n",
    "\n",
    "trace1 = go.Scatter(\n",
    "    x = np.arange(IR.shape[0]),\n",
    "    y = IR,\n",
    "    mode = 'lines',\n",
    "    name = 'IR'\n",
    ")\n",
    "\n",
    "#FSR\n",
    "data = [trace0]\n",
    "py.offline.plot(data, filename='FSRS.html')\n",
    "\n",
    "#IR\n",
    "data = [trace1]\n",
    "py.offline.plot(data, filename='IRS.html')"
   ]
  }
 ],
 "metadata": {
  "kernelspec": {
   "display_name": "Python 3",
   "language": "python",
   "name": "python3"
  },
  "language_info": {
   "codemirror_mode": {
    "name": "ipython",
    "version": 3
   },
   "file_extension": ".py",
   "mimetype": "text/x-python",
   "name": "python",
   "nbconvert_exporter": "python",
   "pygments_lexer": "ipython3",
   "version": "3.6.4"
  }
 },
 "nbformat": 4,
 "nbformat_minor": 2
}
