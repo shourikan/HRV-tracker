{
 "cells": [
  {
   "cell_type": "code",
   "execution_count": 1,
   "metadata": {},
   "outputs": [],
   "source": [
    "import plotly as py\n",
    "import plotly.graph_objs as go\n",
    "import plotly.io as pio\n",
    "import numpy as np\n",
    "import math\n",
    "from numpy import genfromtxt\n",
    "import os\n",
    "\n",
    "totalN = 20\n",
    "dataImport = 'C:\\\\Users\\\\OndrejSpetko\\\\Desktop\\\\School\\\\MED7\\\\HRV-tracker\\\\Breathing\\\\SerialListener\\\\Data\\\\Precision\\\\'"
   ]
  },
  {
   "cell_type": "code",
   "execution_count": 11,
   "metadata": {},
   "outputs": [
    {
     "data": {
      "text/plain": [
       "(20, 6.777008890938951, 86.19370423044924)"
      ]
     },
     "execution_count": 11,
     "metadata": {},
     "output_type": "execute_result"
    }
   ],
   "source": [
    "#Average\n",
    "coefFSR = 0.0\n",
    "coefIR = 0.0\n",
    "total = 0;\n",
    "for x in range(totalN):\n",
    "    n = str(x+1)\n",
    "    if os.path.exists(dataImport+n+'.txt'):\n",
    "        temp = genfromtxt(dataImport+n+'.txt', delimiter=',')\n",
    "        coefFSR += np.var(temp, axis=0)[0]\n",
    "        coefIR += np.var(temp, axis=0)[1]\n",
    "        total += 1\n",
    "    else:\n",
    "        print(n+\" does not exist\")\n",
    "coefFSR /= totalN\n",
    "coefIR /= totalN\n",
    "total, coefFSR, coefIR"
   ]
  },
  {
   "cell_type": "code",
   "execution_count": 13,
   "metadata": {},
   "outputs": [
    {
     "data": {
      "text/plain": [
       "'file://C:\\\\Users\\\\OndrejSpetko\\\\Desktop\\\\School\\\\MED7\\\\HRV-tracker\\\\Breathing\\\\PostProcessing\\\\Python\\\\Bar.html'"
      ]
     },
     "execution_count": 13,
     "metadata": {},
     "output_type": "execute_result"
    }
   ],
   "source": [
    "#Plot average\n",
    "corr1 = coefFSR\n",
    "corr2 = coefIR\n",
    "data2 = [go.Bar(\n",
    "            x=['FSR', 'IR'],\n",
    "            y=[corr1, corr2],\n",
    "            text=[corr1, corr2],\n",
    "            textposition = 'auto',\n",
    ")]\n",
    "\n",
    "layout = go.Layout(\n",
    "    title='Mean variance of sensors across '+str(total)+' samples',\n",
    ")\n",
    "\n",
    "fig = go.Figure(data=data2, layout=layout)\n",
    "py.offline.plot(fig, filename='Correlation.html')"
   ]
  }
 ],
 "metadata": {
  "kernelspec": {
   "display_name": "Python 3",
   "language": "python",
   "name": "python3"
  },
  "language_info": {
   "codemirror_mode": {
    "name": "ipython",
    "version": 3
   },
   "file_extension": ".py",
   "mimetype": "text/x-python",
   "name": "python",
   "nbconvert_exporter": "python",
   "pygments_lexer": "ipython3",
   "version": "3.6.4"
  }
 },
 "nbformat": 4,
 "nbformat_minor": 2
}
