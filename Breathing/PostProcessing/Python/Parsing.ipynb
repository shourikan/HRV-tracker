{
 "cells": [
  {
   "cell_type": "code",
   "execution_count": 20,
   "metadata": {
    "collapsed": true
   },
   "outputs": [],
   "source": [
    "import os\n",
    "n = '22'\n",
    "totalN = 22\n",
    "exportData = 'Data\\\\Project\\\\'\n",
    "motionImport = 'C:\\\\Users\\\\OndrejSpetko\\\\Desktop\\\\School\\\\MED7\\\\HRV-tracker\\\\Breathing\\\\motiondetection\\\\motiondetection\\\\Out\\\\'\n",
    "sensorImport = 'C:\\\\Users\\\\OndrejSpetko\\\\Desktop\\\\School\\\\MED7\\\\HRV-tracker\\\\Breathing\\\\SerialListener\\\\Data\\\\User test\\\\'"
   ]
  },
  {
   "cell_type": "code",
   "execution_count": 2,
   "metadata": {},
   "outputs": [
    {
     "data": {
      "text/plain": [
       "3609"
      ]
     },
     "execution_count": 2,
     "metadata": {},
     "output_type": "execute_result"
    }
   ],
   "source": [
    "#Motion file\n",
    "from numpy import genfromtxt\n",
    "\n",
    "motionRawData = genfromtxt(motionImport+n+'.txt', delimiter=',')\n",
    "motionRawData.shape[0]"
   ]
  },
  {
   "cell_type": "code",
   "execution_count": 4,
   "metadata": {},
   "outputs": [
    {
     "data": {
      "text/plain": [
       "1256"
      ]
     },
     "execution_count": 4,
     "metadata": {},
     "output_type": "execute_result"
    }
   ],
   "source": [
    "#Sensor file\n",
    "FSR_IR = genfromtxt(sensorImport+n+'.txt', delimiter=',')\n",
    "FSR_IR.shape[0]"
   ]
  },
  {
   "cell_type": "code",
   "execution_count": 5,
   "metadata": {},
   "outputs": [
    {
     "data": {
      "text/plain": [
       "1256"
      ]
     },
     "execution_count": 5,
     "metadata": {},
     "output_type": "execute_result"
    }
   ],
   "source": [
    "#Match sizes\n",
    "import numpy as np\n",
    "import math\n",
    "\n",
    "while motionRawData.shape[0] > FSR_IR.shape[0] :\n",
    "    every = math.ceil(motionRawData.shape[0]/(motionRawData.shape[0] - FSR_IR.shape[0]))\n",
    "    motionRawData = np.delete(motionRawData, list(range(0, motionRawData.shape[0], every)), axis=0)\n",
    "motionRawData.shape[0]"
   ]
  },
  {
   "cell_type": "code",
   "execution_count": 6,
   "metadata": {},
   "outputs": [],
   "source": [
    "#Time data\n",
    "timeData = motionRawData[:, 0]"
   ]
  },
  {
   "cell_type": "code",
   "execution_count": 7,
   "metadata": {},
   "outputs": [],
   "source": [
    "# Motion data\n",
    "from scipy import signal\n",
    "temp = motionRawData[:, 1]\n",
    "motionData = signal.savgol_filter(temp, 151, 3)\n",
    "motionData = np.interp(motionData, (motionData.min(), motionData.max()), (0, 10))\n",
    "#motionDataNorm"
   ]
  },
  {
   "cell_type": "code",
   "execution_count": 8,
   "metadata": {},
   "outputs": [],
   "source": [
    "# Normalize FSR data\n",
    "FSRData = np.array(FSR_IR[:, 0])\n",
    "FSRData = signal.savgol_filter(FSRData, 151, 3)\n",
    "FSRData = signal.savgol_filter(FSRData, 151, 3)\n",
    "FSRData = np.interp(FSRData, (FSRData.min(), FSRData.max()), (0, 10))\n",
    "#FSRDataNorm.shape"
   ]
  },
  {
   "cell_type": "code",
   "execution_count": 9,
   "metadata": {},
   "outputs": [],
   "source": [
    "# Normalize IR data\n",
    "IRData = np.array(FSR_IR[:, 1])\n",
    "IRData = signal.savgol_filter(IRData, 151, 3)\n",
    "IRData = signal.savgol_filter(IRData, 151, 3)\n",
    "IRData = np.interp(IRData, (IRData.min(), IRData.max()), (0, 10))\n",
    "#IRDataNorm.shape"
   ]
  },
  {
   "cell_type": "code",
   "execution_count": 10,
   "metadata": {},
   "outputs": [
    {
     "data": {
      "text/plain": [
       "'file://C:\\\\Users\\\\OndrejSpetko\\\\Desktop\\\\School\\\\MED7\\\\HRV-tracker\\\\Breathing\\\\PostProcessing\\\\Python\\\\Scatter.html'"
      ]
     },
     "execution_count": 10,
     "metadata": {},
     "output_type": "execute_result"
    }
   ],
   "source": [
    "#Scatter plot\n",
    "import plotly as py\n",
    "import plotly.graph_objs as go\n",
    "import plotly.io as pio\n",
    "\n",
    "# Create traces\n",
    "trace0 = go.Scatter(\n",
    "    x = timeData,\n",
    "    y = motionData,\n",
    "    mode = 'lines',\n",
    "    name = 'Motion'\n",
    ")\n",
    "trace1 = go.Scatter(\n",
    "    x = timeData,\n",
    "    y = FSRData,\n",
    "    mode = 'lines',\n",
    "    name = 'FSR'\n",
    ")\n",
    "trace2 = go.Scatter(\n",
    "    x = timeData,\n",
    "    y = IRData,\n",
    "    mode = 'lines',\n",
    "    name = 'IR'\n",
    ")\n",
    "\n",
    "#data = [trace0, trace1, trace2]\n",
    "data = [trace0, trace1, trace2]\n",
    "\n",
    "# Plot and embed in ipython notebook!\n",
    "#pio.write_image(fig, exportImage+'fig1.png')\n",
    "py.offline.plot(data, filename='Scatter.html')"
   ]
  },
  {
   "cell_type": "code",
   "execution_count": 11,
   "metadata": {},
   "outputs": [],
   "source": [
    "#Correlation coefficient\n",
    "#np.corrcoef(motionData, FSRData), np.corrcoef(motionData, IRData), np.corrcoef(FSRData, IRData)"
   ]
  },
  {
   "cell_type": "code",
   "execution_count": 12,
   "metadata": {},
   "outputs": [
    {
     "data": {
      "text/plain": [
       "'file://C:\\\\Users\\\\OndrejSpetko\\\\Desktop\\\\School\\\\MED7\\\\HRV-tracker\\\\Breathing\\\\PostProcessing\\\\Python\\\\Bar.html'"
      ]
     },
     "execution_count": 12,
     "metadata": {},
     "output_type": "execute_result"
    }
   ],
   "source": [
    "#Bar plot correlation\n",
    "corr1 = np.corrcoef(motionData, FSRData)[0][1]\n",
    "corr2 = np.corrcoef(motionData, IRData)[0][1]\n",
    "corr3 = np.corrcoef(FSRData, IRData)[0][1]\n",
    "data2 = [go.Bar(\n",
    "            x=['Motion vs. FSR', 'Motion vs. IR', 'IR vs. FSR'],\n",
    "            y=[corr1, corr2, corr3],\n",
    "            text=[corr1, corr2, corr3],\n",
    "            textposition = 'auto',\n",
    ")]\n",
    "\n",
    "layout = go.Layout(\n",
    "    title='Correlation Coefficient of Sensors',\n",
    ")\n",
    "\n",
    "fig = go.Figure(data=data2, layout=layout)\n",
    "py.offline.plot(fig, filename='Bar.html')"
   ]
  },
  {
   "cell_type": "code",
   "execution_count": 13,
   "metadata": {},
   "outputs": [
    {
     "data": {
      "text/plain": [
       "(1256, 2)"
      ]
     },
     "execution_count": 13,
     "metadata": {},
     "output_type": "execute_result"
    }
   ],
   "source": [
    "#Joining time + motion\n",
    "temp = np.vstack((timeData, motionData))\n",
    "\n",
    "size1 = temp[0].size\n",
    "size2 = temp.size\n",
    "\n",
    "temp = np.reshape(temp, size2, order='F')\n",
    "\n",
    "temp = temp.reshape((size1, 2))\n",
    "temp1 = temp\n",
    "temp1.shape"
   ]
  },
  {
   "cell_type": "code",
   "execution_count": 14,
   "metadata": {},
   "outputs": [
    {
     "data": {
      "text/plain": [
       "(1256, 2)"
      ]
     },
     "execution_count": 14,
     "metadata": {},
     "output_type": "execute_result"
    }
   ],
   "source": [
    "#joining FSR + IR\n",
    "temp = np.vstack((FSRData, IRData))\n",
    "size1 = temp[0].size\n",
    "size2 = temp.size\n",
    "\n",
    "temp = np.reshape(temp, size2, order='F')\n",
    "\n",
    "temp = temp.reshape((size1, 2))\n",
    "temp2 = temp\n",
    "temp2.shape"
   ]
  },
  {
   "cell_type": "code",
   "execution_count": 15,
   "metadata": {},
   "outputs": [
    {
     "data": {
      "text/plain": [
       "(array([[ 0.27698347,  0.17787944,  0.        , 10.        ],\n",
       "        [ 0.31069183,  0.19216205,  0.09209894,  9.61185074],\n",
       "        [ 0.38104832,  0.21048024,  0.18518009,  9.23447463],\n",
       "        ...,\n",
       "        [60.322742  ,  0.70283099,  1.28494056,  0.49277445],\n",
       "        [60.35646   ,  0.78781354,  1.26721024,  0.53878921],\n",
       "        [60.389397  ,  0.87809825,  1.25177358,  0.58708732]]), (1256, 4))"
      ]
     },
     "execution_count": 15,
     "metadata": {},
     "output_type": "execute_result"
    }
   ],
   "source": [
    "#Joining TimeMotion + FSRIR\n",
    "final = np.hstack((temp1, temp2))\n",
    "final, final.shape"
   ]
  },
  {
   "cell_type": "code",
   "execution_count": 16,
   "metadata": {},
   "outputs": [],
   "source": [
    "#Saving to file\n",
    "if not os.path.exists(exportData+n):\n",
    "    os.mkdir(exportData+n)\n",
    "np.savetxt(exportData+n+'\\\\'+n+'.txt', final, delimiter=\",\", fmt='%s')\n",
    "np.savetxt(exportData+n+'\\\\'+n+'C.txt', [['MF', 'MI', 'FI'], [corr1, corr2, corr3]], delimiter=\",\", fmt='%s')"
   ]
  },
  {
   "cell_type": "code",
   "execution_count": 21,
   "metadata": {},
   "outputs": [
    {
     "name": "stdout",
     "output_type": "stream",
     "text": [
      "11 does not exist\n",
      "13 does not exist\n"
     ]
    },
    {
     "data": {
      "text/plain": [
       "(20, 0.8004124875732593, 0.20311572904551775, 0.22608387608865596)"
      ]
     },
     "execution_count": 21,
     "metadata": {},
     "output_type": "execute_result"
    }
   ],
   "source": [
    "#Average coef values\n",
    "# coefFSR = 0.0\n",
    "# coefIR = 0.0\n",
    "# coefBoth = 0.0\n",
    "# total = 0;\n",
    "# for x in range(totalN):\n",
    "#     n = str(x+1)\n",
    "#     if os.path.exists(exportData+n):\n",
    "#         temp = genfromtxt(exportData+n+'\\\\'+n+'C.txt', delimiter=',')\n",
    "#         coefFSR += temp[1][0]\n",
    "#         coefIR += temp[1][1]\n",
    "#         coefBoth += temp[1][2]\n",
    "#         total += 1\n",
    "#     else:\n",
    "#         print(n+\" does not exist\")\n",
    "# coefFSR /= total\n",
    "# coefIR /= total\n",
    "# coefBoth /= total\n",
    "# total, coefFSR, coefIR, coefBoth"
   ]
  },
  {
   "cell_type": "code",
   "execution_count": 22,
   "metadata": {},
   "outputs": [
    {
     "data": {
      "text/plain": [
       "'file://C:\\\\Users\\\\OndrejSpetko\\\\Desktop\\\\School\\\\MED7\\\\HRV-tracker\\\\Breathing\\\\PostProcessing\\\\Python\\\\Bar.html'"
      ]
     },
     "execution_count": 22,
     "metadata": {},
     "output_type": "execute_result"
    }
   ],
   "source": [
    "#Plot average coef values\n",
    "#Bar plot correlation\n",
    "# corr1 = coefFSR\n",
    "# corr2 = coefIR\n",
    "# corr3 = coefBoth\n",
    "# data2 = [go.Bar(\n",
    "#             x=['Motion vs. FSR', 'Motion vs. IR', 'IR vs. FSR'],\n",
    "#             y=[corr1, corr2, corr3],\n",
    "#             text=[corr1, corr2, corr3],\n",
    "#             textposition = 'auto',\n",
    "# )]\n",
    "\n",
    "# layout = go.Layout(\n",
    "#     title='Mean Correlation Coefficient of Sensors across '+str(total)+' samples',\n",
    "# )\n",
    "\n",
    "# fig = go.Figure(data=data2, layout=layout)\n",
    "# py.offline.plot(fig, filename='Bar.html')"
   ]
  }
 ],
 "metadata": {
  "kernelspec": {
   "display_name": "Python 3",
   "language": "python",
   "name": "python3"
  },
  "language_info": {
   "codemirror_mode": {
    "name": "ipython",
    "version": 3
   },
   "file_extension": ".py",
   "mimetype": "text/x-python",
   "name": "python",
   "nbconvert_exporter": "python",
   "pygments_lexer": "ipython3",
   "version": "3.6.4"
  }
 },
 "nbformat": 4,
 "nbformat_minor": 2
}
